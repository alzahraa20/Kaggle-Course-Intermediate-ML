{
 "cells": [
  {
   "cell_type": "markdown",
   "id": "5e74357c",
   "metadata": {
    "papermill": {
     "duration": 0.03435,
     "end_time": "2022-02-25T21:31:31.852524",
     "exception": false,
     "start_time": "2022-02-25T21:31:31.818174",
     "status": "completed"
    },
    "tags": []
   },
   "source": [
    "**This notebook is an exercise in the [Intermediate Machine Learning](https://www.kaggle.com/learn/intermediate-machine-learning) course.  You can reference the tutorial at [this link](https://www.kaggle.com/alexisbcook/missing-values).**\n",
    "\n",
    "---\n"
   ]
  },
  {
   "cell_type": "markdown",
   "id": "ec4ea844",
   "metadata": {
    "papermill": {
     "duration": 0.04194,
     "end_time": "2022-02-25T21:31:31.933770",
     "exception": false,
     "start_time": "2022-02-25T21:31:31.891830",
     "status": "completed"
    },
    "tags": []
   },
   "source": [
    "Now it's your turn to test your new knowledge of **missing values** handling. You'll probably find it makes a big difference.\n",
    "\n",
    "# Setup\n",
    "\n",
    "The questions will give you feedback on your work. Run the following cell to set up the feedback system."
   ]
  },
  {
   "cell_type": "code",
   "execution_count": 1,
   "id": "d898876b",
   "metadata": {
    "execution": {
     "iopub.execute_input": "2022-02-25T21:31:32.010646Z",
     "iopub.status.busy": "2022-02-25T21:31:32.009480Z",
     "iopub.status.idle": "2022-02-25T21:31:32.052839Z",
     "shell.execute_reply": "2022-02-25T21:31:32.052226Z",
     "shell.execute_reply.started": "2022-02-25T20:11:44.053868Z"
    },
    "papermill": {
     "duration": 0.079921,
     "end_time": "2022-02-25T21:31:32.052997",
     "exception": false,
     "start_time": "2022-02-25T21:31:31.973076",
     "status": "completed"
    },
    "tags": []
   },
   "outputs": [
    {
     "name": "stdout",
     "output_type": "stream",
     "text": [
      "Setup Complete\n"
     ]
    }
   ],
   "source": [
    "# Set up code checking\n",
    "import os\n",
    "if not os.path.exists(\"../input/train.csv\"):\n",
    "    os.symlink(\"../input/home-data-for-ml-course/train.csv\", \"../input/train.csv\")  \n",
    "    os.symlink(\"../input/home-data-for-ml-course/test.csv\", \"../input/test.csv\") \n",
    "from learntools.core import binder\n",
    "binder.bind(globals())\n",
    "from learntools.ml_intermediate.ex2 import *\n",
    "print(\"Setup Complete\")"
   ]
  },
  {
   "cell_type": "markdown",
   "id": "74be38ec",
   "metadata": {
    "papermill": {
     "duration": 0.03335,
     "end_time": "2022-02-25T21:31:32.120201",
     "exception": false,
     "start_time": "2022-02-25T21:31:32.086851",
     "status": "completed"
    },
    "tags": []
   },
   "source": [
    "In this exercise, you will work with data from the [Housing Prices Competition for Kaggle Learn Users](https://www.kaggle.com/c/home-data-for-ml-course). \n",
    "\n",
    "![Ames Housing dataset image](https://i.imgur.com/lTJVG4e.png)\n",
    "\n",
    "Run the next code cell without changes to load the training and validation sets in `X_train`, `X_valid`, `y_train`, and `y_valid`.  The test set is loaded in `X_test`."
   ]
  },
  {
   "cell_type": "code",
   "execution_count": 2,
   "id": "1556a95b",
   "metadata": {
    "execution": {
     "iopub.execute_input": "2022-02-25T21:31:32.192176Z",
     "iopub.status.busy": "2022-02-25T21:31:32.191581Z",
     "iopub.status.idle": "2022-02-25T21:31:33.244759Z",
     "shell.execute_reply": "2022-02-25T21:31:33.243602Z",
     "shell.execute_reply.started": "2022-02-25T20:16:33.308201Z"
    },
    "papermill": {
     "duration": 1.090971,
     "end_time": "2022-02-25T21:31:33.244915",
     "exception": false,
     "start_time": "2022-02-25T21:31:32.153944",
     "status": "completed"
    },
    "tags": []
   },
   "outputs": [],
   "source": [
    "import pandas as pd\n",
    "from sklearn.model_selection import train_test_split\n",
    "\n",
    "# Read the data\n",
    "X_full = pd.read_csv('../input/train.csv', index_col='Id')\n",
    "X_test_full = pd.read_csv('../input/test.csv', index_col='Id')"
   ]
  },
  {
   "cell_type": "code",
   "execution_count": 3,
   "id": "fc447a66",
   "metadata": {
    "execution": {
     "iopub.execute_input": "2022-02-25T21:31:33.318957Z",
     "iopub.status.busy": "2022-02-25T21:31:33.318015Z",
     "iopub.status.idle": "2022-02-25T21:31:33.337258Z",
     "shell.execute_reply": "2022-02-25T21:31:33.337772Z",
     "shell.execute_reply.started": "2022-02-25T20:16:36.737471Z"
    },
    "papermill": {
     "duration": 0.057674,
     "end_time": "2022-02-25T21:31:33.337940",
     "exception": false,
     "start_time": "2022-02-25T21:31:33.280266",
     "status": "completed"
    },
    "tags": []
   },
   "outputs": [],
   "source": [
    "# Remove rows with missing target, separate target from predictors\n",
    "X_full.dropna(axis=0, subset=['SalePrice'], inplace=True)\n",
    "y = X_full.SalePrice\n",
    "X_full.drop(['SalePrice'], axis=1, inplace=True)\n",
    "\n",
    "# To keep things simple, we'll use only numerical predictors\n",
    "X = X_full.select_dtypes(exclude=['object'])\n",
    "X_test = X_test_full.select_dtypes(exclude=['object'])\n",
    "\n",
    "# Break off validation set from training data\n",
    "X_train, X_valid, y_train, y_valid = train_test_split(X, y, train_size=0.8, test_size=0.2,\n",
    "                                                      random_state=0)"
   ]
  },
  {
   "cell_type": "markdown",
   "id": "719ad0e9",
   "metadata": {
    "papermill": {
     "duration": 0.033332,
     "end_time": "2022-02-25T21:31:33.405489",
     "exception": false,
     "start_time": "2022-02-25T21:31:33.372157",
     "status": "completed"
    },
    "tags": []
   },
   "source": [
    "Use the next code cell to print the first five rows of the data."
   ]
  },
  {
   "cell_type": "code",
   "execution_count": 4,
   "id": "9be0a01f",
   "metadata": {
    "execution": {
     "iopub.execute_input": "2022-02-25T21:31:33.476307Z",
     "iopub.status.busy": "2022-02-25T21:31:33.475779Z",
     "iopub.status.idle": "2022-02-25T21:31:33.501105Z",
     "shell.execute_reply": "2022-02-25T21:31:33.501578Z",
     "shell.execute_reply.started": "2022-02-25T20:16:43.034572Z"
    },
    "papermill": {
     "duration": 0.062259,
     "end_time": "2022-02-25T21:31:33.501742",
     "exception": false,
     "start_time": "2022-02-25T21:31:33.439483",
     "status": "completed"
    },
    "tags": []
   },
   "outputs": [
    {
     "data": {
      "text/html": [
       "<div>\n",
       "<style scoped>\n",
       "    .dataframe tbody tr th:only-of-type {\n",
       "        vertical-align: middle;\n",
       "    }\n",
       "\n",
       "    .dataframe tbody tr th {\n",
       "        vertical-align: top;\n",
       "    }\n",
       "\n",
       "    .dataframe thead th {\n",
       "        text-align: right;\n",
       "    }\n",
       "</style>\n",
       "<table border=\"1\" class=\"dataframe\">\n",
       "  <thead>\n",
       "    <tr style=\"text-align: right;\">\n",
       "      <th></th>\n",
       "      <th>MSSubClass</th>\n",
       "      <th>LotFrontage</th>\n",
       "      <th>LotArea</th>\n",
       "      <th>OverallQual</th>\n",
       "      <th>OverallCond</th>\n",
       "      <th>YearBuilt</th>\n",
       "      <th>YearRemodAdd</th>\n",
       "      <th>MasVnrArea</th>\n",
       "      <th>BsmtFinSF1</th>\n",
       "      <th>BsmtFinSF2</th>\n",
       "      <th>...</th>\n",
       "      <th>GarageArea</th>\n",
       "      <th>WoodDeckSF</th>\n",
       "      <th>OpenPorchSF</th>\n",
       "      <th>EnclosedPorch</th>\n",
       "      <th>3SsnPorch</th>\n",
       "      <th>ScreenPorch</th>\n",
       "      <th>PoolArea</th>\n",
       "      <th>MiscVal</th>\n",
       "      <th>MoSold</th>\n",
       "      <th>YrSold</th>\n",
       "    </tr>\n",
       "    <tr>\n",
       "      <th>Id</th>\n",
       "      <th></th>\n",
       "      <th></th>\n",
       "      <th></th>\n",
       "      <th></th>\n",
       "      <th></th>\n",
       "      <th></th>\n",
       "      <th></th>\n",
       "      <th></th>\n",
       "      <th></th>\n",
       "      <th></th>\n",
       "      <th></th>\n",
       "      <th></th>\n",
       "      <th></th>\n",
       "      <th></th>\n",
       "      <th></th>\n",
       "      <th></th>\n",
       "      <th></th>\n",
       "      <th></th>\n",
       "      <th></th>\n",
       "      <th></th>\n",
       "      <th></th>\n",
       "    </tr>\n",
       "  </thead>\n",
       "  <tbody>\n",
       "    <tr>\n",
       "      <th>619</th>\n",
       "      <td>20</td>\n",
       "      <td>90.0</td>\n",
       "      <td>11694</td>\n",
       "      <td>9</td>\n",
       "      <td>5</td>\n",
       "      <td>2007</td>\n",
       "      <td>2007</td>\n",
       "      <td>452.0</td>\n",
       "      <td>48</td>\n",
       "      <td>0</td>\n",
       "      <td>...</td>\n",
       "      <td>774</td>\n",
       "      <td>0</td>\n",
       "      <td>108</td>\n",
       "      <td>0</td>\n",
       "      <td>0</td>\n",
       "      <td>260</td>\n",
       "      <td>0</td>\n",
       "      <td>0</td>\n",
       "      <td>7</td>\n",
       "      <td>2007</td>\n",
       "    </tr>\n",
       "    <tr>\n",
       "      <th>871</th>\n",
       "      <td>20</td>\n",
       "      <td>60.0</td>\n",
       "      <td>6600</td>\n",
       "      <td>5</td>\n",
       "      <td>5</td>\n",
       "      <td>1962</td>\n",
       "      <td>1962</td>\n",
       "      <td>0.0</td>\n",
       "      <td>0</td>\n",
       "      <td>0</td>\n",
       "      <td>...</td>\n",
       "      <td>308</td>\n",
       "      <td>0</td>\n",
       "      <td>0</td>\n",
       "      <td>0</td>\n",
       "      <td>0</td>\n",
       "      <td>0</td>\n",
       "      <td>0</td>\n",
       "      <td>0</td>\n",
       "      <td>8</td>\n",
       "      <td>2009</td>\n",
       "    </tr>\n",
       "    <tr>\n",
       "      <th>93</th>\n",
       "      <td>30</td>\n",
       "      <td>80.0</td>\n",
       "      <td>13360</td>\n",
       "      <td>5</td>\n",
       "      <td>7</td>\n",
       "      <td>1921</td>\n",
       "      <td>2006</td>\n",
       "      <td>0.0</td>\n",
       "      <td>713</td>\n",
       "      <td>0</td>\n",
       "      <td>...</td>\n",
       "      <td>432</td>\n",
       "      <td>0</td>\n",
       "      <td>0</td>\n",
       "      <td>44</td>\n",
       "      <td>0</td>\n",
       "      <td>0</td>\n",
       "      <td>0</td>\n",
       "      <td>0</td>\n",
       "      <td>8</td>\n",
       "      <td>2009</td>\n",
       "    </tr>\n",
       "    <tr>\n",
       "      <th>818</th>\n",
       "      <td>20</td>\n",
       "      <td>NaN</td>\n",
       "      <td>13265</td>\n",
       "      <td>8</td>\n",
       "      <td>5</td>\n",
       "      <td>2002</td>\n",
       "      <td>2002</td>\n",
       "      <td>148.0</td>\n",
       "      <td>1218</td>\n",
       "      <td>0</td>\n",
       "      <td>...</td>\n",
       "      <td>857</td>\n",
       "      <td>150</td>\n",
       "      <td>59</td>\n",
       "      <td>0</td>\n",
       "      <td>0</td>\n",
       "      <td>0</td>\n",
       "      <td>0</td>\n",
       "      <td>0</td>\n",
       "      <td>7</td>\n",
       "      <td>2008</td>\n",
       "    </tr>\n",
       "    <tr>\n",
       "      <th>303</th>\n",
       "      <td>20</td>\n",
       "      <td>118.0</td>\n",
       "      <td>13704</td>\n",
       "      <td>7</td>\n",
       "      <td>5</td>\n",
       "      <td>2001</td>\n",
       "      <td>2002</td>\n",
       "      <td>150.0</td>\n",
       "      <td>0</td>\n",
       "      <td>0</td>\n",
       "      <td>...</td>\n",
       "      <td>843</td>\n",
       "      <td>468</td>\n",
       "      <td>81</td>\n",
       "      <td>0</td>\n",
       "      <td>0</td>\n",
       "      <td>0</td>\n",
       "      <td>0</td>\n",
       "      <td>0</td>\n",
       "      <td>1</td>\n",
       "      <td>2006</td>\n",
       "    </tr>\n",
       "  </tbody>\n",
       "</table>\n",
       "<p>5 rows × 36 columns</p>\n",
       "</div>"
      ],
      "text/plain": [
       "     MSSubClass  LotFrontage  LotArea  OverallQual  OverallCond  YearBuilt  \\\n",
       "Id                                                                           \n",
       "619          20         90.0    11694            9            5       2007   \n",
       "871          20         60.0     6600            5            5       1962   \n",
       "93           30         80.0    13360            5            7       1921   \n",
       "818          20          NaN    13265            8            5       2002   \n",
       "303          20        118.0    13704            7            5       2001   \n",
       "\n",
       "     YearRemodAdd  MasVnrArea  BsmtFinSF1  BsmtFinSF2  ...  GarageArea  \\\n",
       "Id                                                     ...               \n",
       "619          2007       452.0          48           0  ...         774   \n",
       "871          1962         0.0           0           0  ...         308   \n",
       "93           2006         0.0         713           0  ...         432   \n",
       "818          2002       148.0        1218           0  ...         857   \n",
       "303          2002       150.0           0           0  ...         843   \n",
       "\n",
       "     WoodDeckSF  OpenPorchSF  EnclosedPorch  3SsnPorch  ScreenPorch  PoolArea  \\\n",
       "Id                                                                              \n",
       "619           0          108              0          0          260         0   \n",
       "871           0            0              0          0            0         0   \n",
       "93            0            0             44          0            0         0   \n",
       "818         150           59              0          0            0         0   \n",
       "303         468           81              0          0            0         0   \n",
       "\n",
       "     MiscVal  MoSold  YrSold  \n",
       "Id                            \n",
       "619        0       7    2007  \n",
       "871        0       8    2009  \n",
       "93         0       8    2009  \n",
       "818        0       7    2008  \n",
       "303        0       1    2006  \n",
       "\n",
       "[5 rows x 36 columns]"
      ]
     },
     "execution_count": 4,
     "metadata": {},
     "output_type": "execute_result"
    }
   ],
   "source": [
    "X_train.head()"
   ]
  },
  {
   "cell_type": "markdown",
   "id": "94dbbf0d",
   "metadata": {
    "papermill": {
     "duration": 0.035481,
     "end_time": "2022-02-25T21:31:33.574235",
     "exception": false,
     "start_time": "2022-02-25T21:31:33.538754",
     "status": "completed"
    },
    "tags": []
   },
   "source": [
    "You can already see a few missing values in the first several rows.  In the next step, you'll obtain a more comprehensive understanding of the missing values in the dataset.\n",
    "\n",
    "# Step 1: Preliminary investigation\n",
    "\n",
    "Run the code cell below without changes."
   ]
  },
  {
   "cell_type": "code",
   "execution_count": 5,
   "id": "e664a618",
   "metadata": {
    "execution": {
     "iopub.execute_input": "2022-02-25T21:31:33.648849Z",
     "iopub.status.busy": "2022-02-25T21:31:33.648215Z",
     "iopub.status.idle": "2022-02-25T21:31:33.655997Z",
     "shell.execute_reply": "2022-02-25T21:31:33.656463Z",
     "shell.execute_reply.started": "2022-02-25T20:21:07.007891Z"
    },
    "papermill": {
     "duration": 0.046351,
     "end_time": "2022-02-25T21:31:33.656641",
     "exception": false,
     "start_time": "2022-02-25T21:31:33.610290",
     "status": "completed"
    },
    "tags": []
   },
   "outputs": [
    {
     "name": "stdout",
     "output_type": "stream",
     "text": [
      "(1168, 36)\n",
      "LotFrontage    212\n",
      "MasVnrArea       6\n",
      "GarageYrBlt     58\n",
      "dtype: int64\n"
     ]
    }
   ],
   "source": [
    "# Shape of training data (num_rows, num_columns)\n",
    "print(X_train.shape)\n",
    "# Number of missing values in each column of training data\n",
    "missing_val_count_by_column = X_train.isnull().sum()\n",
    "print(missing_val_count_by_column[missing_val_count_by_column > 0])"
   ]
  },
  {
   "cell_type": "markdown",
   "id": "67eb384a",
   "metadata": {
    "papermill": {
     "duration": 0.034573,
     "end_time": "2022-02-25T21:31:33.726815",
     "exception": false,
     "start_time": "2022-02-25T21:31:33.692242",
     "status": "completed"
    },
    "tags": []
   },
   "source": [
    "### Part A\n",
    "\n",
    "Use the above output to answer the questions below."
   ]
  },
  {
   "cell_type": "code",
   "execution_count": 6,
   "id": "7433308d",
   "metadata": {
    "execution": {
     "iopub.execute_input": "2022-02-25T21:31:33.806459Z",
     "iopub.status.busy": "2022-02-25T21:31:33.805831Z",
     "iopub.status.idle": "2022-02-25T21:31:33.809786Z",
     "shell.execute_reply": "2022-02-25T21:31:33.810279Z",
     "shell.execute_reply.started": "2022-02-25T20:20:48.559156Z"
    },
    "papermill": {
     "duration": 0.047767,
     "end_time": "2022-02-25T21:31:33.810444",
     "exception": false,
     "start_time": "2022-02-25T21:31:33.762677",
     "status": "completed"
    },
    "tags": []
   },
   "outputs": [
    {
     "data": {
      "application/javascript": [
       "parent.postMessage({\"jupyterEvent\": \"custom.exercise_interaction\", \"data\": {\"outcomeType\": 1, \"valueTowardsCompletion\": 1.0, \"interactionType\": 1, \"questionType\": 1, \"questionId\": \"1.1_InvestigateEquality\", \"learnToolsVersion\": \"0.3.4\", \"failureMessage\": \"\", \"exceptionClass\": \"\", \"trace\": \"\"}}, \"*\")"
      ],
      "text/plain": [
       "<IPython.core.display.Javascript object>"
      ]
     },
     "metadata": {},
     "output_type": "display_data"
    },
    {
     "data": {
      "text/markdown": [
       "<span style=\"color:#33cc33\">Correct</span>"
      ],
      "text/plain": [
       "Correct"
      ]
     },
     "metadata": {},
     "output_type": "display_data"
    }
   ],
   "source": [
    "# Fill in the line below: How many rows are in the training data?\n",
    "num_rows = X_train.shape[0]\n",
    "\n",
    "# Fill in the line below: How many columns in the training data\n",
    "# have missing values?\n",
    "num_cols_with_missing = missing_val_count_by_column[missing_val_count_by_column > 0].count()\n",
    "\n",
    "# Fill in the line below: How many missing entries are contained in \n",
    "# all of the training data?\n",
    "tot_missing = missing_val_count_by_column[missing_val_count_by_column > 0].sum()\n",
    "\n",
    "# Check your answers\n",
    "step_1.a.check()"
   ]
  },
  {
   "cell_type": "code",
   "execution_count": 7,
   "id": "31fb93bb",
   "metadata": {
    "execution": {
     "iopub.execute_input": "2022-02-25T21:31:33.889654Z",
     "iopub.status.busy": "2022-02-25T21:31:33.889040Z",
     "iopub.status.idle": "2022-02-25T21:31:33.891280Z",
     "shell.execute_reply": "2022-02-25T21:31:33.891878Z",
     "shell.execute_reply.started": "2022-02-25T17:17:45.843950Z"
    },
    "papermill": {
     "duration": 0.043616,
     "end_time": "2022-02-25T21:31:33.892039",
     "exception": false,
     "start_time": "2022-02-25T21:31:33.848423",
     "status": "completed"
    },
    "tags": []
   },
   "outputs": [],
   "source": [
    "# Lines below will give you a hint or solution code\n",
    "# step_1.a.hint()\n",
    "# step_1.a.solution()"
   ]
  },
  {
   "cell_type": "markdown",
   "id": "efb12721",
   "metadata": {
    "papermill": {
     "duration": 0.036664,
     "end_time": "2022-02-25T21:31:33.965966",
     "exception": false,
     "start_time": "2022-02-25T21:31:33.929302",
     "status": "completed"
    },
    "tags": []
   },
   "source": [
    "### Part B\n",
    "Considering your answers above, what do you think is likely the best approach to dealing with the missing values?"
   ]
  },
  {
   "cell_type": "code",
   "execution_count": 8,
   "id": "870749b1",
   "metadata": {
    "execution": {
     "iopub.execute_input": "2022-02-25T21:31:34.045013Z",
     "iopub.status.busy": "2022-02-25T21:31:34.044370Z",
     "iopub.status.idle": "2022-02-25T21:31:34.050267Z",
     "shell.execute_reply": "2022-02-25T21:31:34.050855Z",
     "shell.execute_reply.started": "2022-02-25T20:21:23.526641Z"
    },
    "papermill": {
     "duration": 0.047285,
     "end_time": "2022-02-25T21:31:34.051020",
     "exception": false,
     "start_time": "2022-02-25T21:31:34.003735",
     "status": "completed"
    },
    "tags": []
   },
   "outputs": [
    {
     "data": {
      "application/javascript": [
       "parent.postMessage({\"jupyterEvent\": \"custom.exercise_interaction\", \"data\": {\"outcomeType\": 1, \"valueTowardsCompletion\": 1.0, \"interactionType\": 1, \"questionType\": 4, \"questionId\": \"1.2_InvestigateThought\", \"learnToolsVersion\": \"0.3.4\", \"failureMessage\": \"\", \"exceptionClass\": \"\", \"trace\": \"\"}}, \"*\")"
      ],
      "text/plain": [
       "<IPython.core.display.Javascript object>"
      ]
     },
     "metadata": {},
     "output_type": "display_data"
    },
    {
     "data": {
      "text/markdown": [
       "<span style=\"color:#33cc33\">Correct:</span> \n",
       "\n",
       "Since there are relatively few missing entries in the data (the column with the greatest percentage of missing values is missing less than 20% of its entries), we can expect that dropping columns is unlikely to yield good results.  This is because we'd be throwing away a lot of valuable data, and so imputation will likely perform better."
      ],
      "text/plain": [
       "Correct: \n",
       "\n",
       "Since there are relatively few missing entries in the data (the column with the greatest percentage of missing values is missing less than 20% of its entries), we can expect that dropping columns is unlikely to yield good results.  This is because we'd be throwing away a lot of valuable data, and so imputation will likely perform better."
      ]
     },
     "metadata": {},
     "output_type": "display_data"
    }
   ],
   "source": [
    "# Check your answer (Run this code cell to receive credit!)\n",
    "step_1.b.check()"
   ]
  },
  {
   "cell_type": "code",
   "execution_count": 9,
   "id": "9eb882f2",
   "metadata": {
    "execution": {
     "iopub.execute_input": "2022-02-25T21:31:34.131738Z",
     "iopub.status.busy": "2022-02-25T21:31:34.131145Z",
     "iopub.status.idle": "2022-02-25T21:31:34.133685Z",
     "shell.execute_reply": "2022-02-25T21:31:34.133199Z"
    },
    "papermill": {
     "duration": 0.043835,
     "end_time": "2022-02-25T21:31:34.133810",
     "exception": false,
     "start_time": "2022-02-25T21:31:34.089975",
     "status": "completed"
    },
    "tags": []
   },
   "outputs": [],
   "source": [
    "#step_1.b.hint()"
   ]
  },
  {
   "cell_type": "markdown",
   "id": "63bf5096",
   "metadata": {
    "papermill": {
     "duration": 0.037887,
     "end_time": "2022-02-25T21:31:34.209429",
     "exception": false,
     "start_time": "2022-02-25T21:31:34.171542",
     "status": "completed"
    },
    "tags": []
   },
   "source": [
    "To compare different approaches to dealing with missing values, you'll use the same `score_dataset()` function from the tutorial.  This function reports the [mean absolute error](https://en.wikipedia.org/wiki/Mean_absolute_error) (MAE) from a random forest model."
   ]
  },
  {
   "cell_type": "code",
   "execution_count": 10,
   "id": "8a017206",
   "metadata": {
    "execution": {
     "iopub.execute_input": "2022-02-25T21:31:34.288097Z",
     "iopub.status.busy": "2022-02-25T21:31:34.287463Z",
     "iopub.status.idle": "2022-02-25T21:31:34.452141Z",
     "shell.execute_reply": "2022-02-25T21:31:34.451580Z",
     "shell.execute_reply.started": "2022-02-25T20:22:01.295581Z"
    },
    "papermill": {
     "duration": 0.204552,
     "end_time": "2022-02-25T21:31:34.452285",
     "exception": false,
     "start_time": "2022-02-25T21:31:34.247733",
     "status": "completed"
    },
    "tags": []
   },
   "outputs": [],
   "source": [
    "from sklearn.ensemble import RandomForestRegressor\n",
    "from sklearn.metrics import mean_absolute_error\n",
    "\n",
    "# Function for comparing different approaches\n",
    "def score_dataset(X_train, X_valid, y_train, y_valid):\n",
    "    model = RandomForestRegressor(n_estimators=100, random_state=0)\n",
    "    model.fit(X_train, y_train)\n",
    "    preds = model.predict(X_valid)\n",
    "    return mean_absolute_error(y_valid, preds)"
   ]
  },
  {
   "cell_type": "markdown",
   "id": "f920b358",
   "metadata": {
    "papermill": {
     "duration": 0.038573,
     "end_time": "2022-02-25T21:31:34.531849",
     "exception": false,
     "start_time": "2022-02-25T21:31:34.493276",
     "status": "completed"
    },
    "tags": []
   },
   "source": [
    "# Step 2: Drop columns with missing values\n",
    "\n",
    "In this step, you'll preprocess the data in `X_train` and `X_valid` to remove columns with missing values.  Set the preprocessed DataFrames to `reduced_X_train` and `reduced_X_valid`, respectively.  "
   ]
  },
  {
   "cell_type": "code",
   "execution_count": 11,
   "id": "15826724",
   "metadata": {
    "execution": {
     "iopub.execute_input": "2022-02-25T21:31:34.613823Z",
     "iopub.status.busy": "2022-02-25T21:31:34.612855Z",
     "iopub.status.idle": "2022-02-25T21:31:34.639214Z",
     "shell.execute_reply": "2022-02-25T21:31:34.639759Z",
     "shell.execute_reply.started": "2022-02-25T20:36:34.091315Z"
    },
    "papermill": {
     "duration": 0.068687,
     "end_time": "2022-02-25T21:31:34.639935",
     "exception": false,
     "start_time": "2022-02-25T21:31:34.571248",
     "status": "completed"
    },
    "tags": []
   },
   "outputs": [
    {
     "data": {
      "application/javascript": [
       "parent.postMessage({\"jupyterEvent\": \"custom.exercise_interaction\", \"data\": {\"outcomeType\": 1, \"valueTowardsCompletion\": 1.0, \"interactionType\": 1, \"questionType\": 2, \"questionId\": \"2_DropMissing\", \"learnToolsVersion\": \"0.3.4\", \"failureMessage\": \"\", \"exceptionClass\": \"\", \"trace\": \"\"}}, \"*\")"
      ],
      "text/plain": [
       "<IPython.core.display.Javascript object>"
      ]
     },
     "metadata": {},
     "output_type": "display_data"
    },
    {
     "data": {
      "text/markdown": [
       "<span style=\"color:#33cc33\">Correct</span>"
      ],
      "text/plain": [
       "Correct"
      ]
     },
     "metadata": {},
     "output_type": "display_data"
    }
   ],
   "source": [
    "# Fill in the line below: get names of columns with missing values\n",
    "# Your code here\n",
    "cols_with_miss=[]\n",
    "for col in X_train.columns:\n",
    "    if X_train[col].isnull().any():\n",
    "        cols_with_miss.append(col)\n",
    "# Fill in the lines below: drop columns in training and validation data\n",
    "reduced_X_train = X_train.drop(cols_with_miss,axis=1)\n",
    "reduced_X_valid = X_valid.drop(cols_with_miss,axis=1)\n",
    "\n",
    "# Check your answers\n",
    "step_2.check()"
   ]
  },
  {
   "cell_type": "code",
   "execution_count": 12,
   "id": "87345e81",
   "metadata": {
    "execution": {
     "iopub.execute_input": "2022-02-25T21:31:34.722096Z",
     "iopub.status.busy": "2022-02-25T21:31:34.721166Z",
     "iopub.status.idle": "2022-02-25T21:31:34.724354Z",
     "shell.execute_reply": "2022-02-25T21:31:34.724833Z",
     "shell.execute_reply.started": "2022-02-25T20:36:46.259678Z"
    },
    "papermill": {
     "duration": 0.04587,
     "end_time": "2022-02-25T21:31:34.724999",
     "exception": false,
     "start_time": "2022-02-25T21:31:34.679129",
     "status": "completed"
    },
    "tags": []
   },
   "outputs": [],
   "source": [
    "# Lines below will give you a hint or solution code\n",
    "#step_2.hint()\n",
    "#step_2.solution()"
   ]
  },
  {
   "cell_type": "markdown",
   "id": "6f781b39",
   "metadata": {
    "papermill": {
     "duration": 0.040667,
     "end_time": "2022-02-25T21:31:34.805336",
     "exception": false,
     "start_time": "2022-02-25T21:31:34.764669",
     "status": "completed"
    },
    "tags": []
   },
   "source": [
    "Run the next code cell without changes to obtain the MAE for this approach."
   ]
  },
  {
   "cell_type": "code",
   "execution_count": 13,
   "id": "78f10293",
   "metadata": {
    "execution": {
     "iopub.execute_input": "2022-02-25T21:31:34.890873Z",
     "iopub.status.busy": "2022-02-25T21:31:34.889906Z",
     "iopub.status.idle": "2022-02-25T21:31:36.067164Z",
     "shell.execute_reply": "2022-02-25T21:31:36.066650Z",
     "shell.execute_reply.started": "2022-02-25T20:36:59.956523Z"
    },
    "papermill": {
     "duration": 1.22123,
     "end_time": "2022-02-25T21:31:36.067306",
     "exception": false,
     "start_time": "2022-02-25T21:31:34.846076",
     "status": "completed"
    },
    "tags": []
   },
   "outputs": [
    {
     "name": "stdout",
     "output_type": "stream",
     "text": [
      "MAE (Drop columns with missing values):\n",
      "17837.82570776256\n"
     ]
    }
   ],
   "source": [
    "print(\"MAE (Drop columns with missing values):\")\n",
    "print(score_dataset(reduced_X_train, reduced_X_valid, y_train, y_valid))"
   ]
  },
  {
   "cell_type": "markdown",
   "id": "168fd1e0",
   "metadata": {
    "papermill": {
     "duration": 0.040307,
     "end_time": "2022-02-25T21:31:36.147987",
     "exception": false,
     "start_time": "2022-02-25T21:31:36.107680",
     "status": "completed"
    },
    "tags": []
   },
   "source": [
    "# Step 3: Imputation\n",
    "\n",
    "### Part A\n",
    "\n",
    "Use the next code cell to impute missing values with the mean value along each column.  Set the preprocessed DataFrames to `imputed_X_train` and `imputed_X_valid`.  Make sure that the column names match those in `X_train` and `X_valid`."
   ]
  },
  {
   "cell_type": "code",
   "execution_count": 14,
   "id": "3da72b84",
   "metadata": {
    "execution": {
     "iopub.execute_input": "2022-02-25T21:31:36.233302Z",
     "iopub.status.busy": "2022-02-25T21:31:36.232687Z",
     "iopub.status.idle": "2022-02-25T21:31:36.264467Z",
     "shell.execute_reply": "2022-02-25T21:31:36.265061Z",
     "shell.execute_reply.started": "2022-02-25T21:24:48.622809Z"
    },
    "papermill": {
     "duration": 0.077383,
     "end_time": "2022-02-25T21:31:36.265219",
     "exception": false,
     "start_time": "2022-02-25T21:31:36.187836",
     "status": "completed"
    },
    "tags": []
   },
   "outputs": [
    {
     "data": {
      "application/javascript": [
       "parent.postMessage({\"jupyterEvent\": \"custom.exercise_interaction\", \"data\": {\"outcomeType\": 1, \"valueTowardsCompletion\": 1.0, \"interactionType\": 1, \"questionType\": 2, \"questionId\": \"3.1_ImputeCode\", \"learnToolsVersion\": \"0.3.4\", \"failureMessage\": \"\", \"exceptionClass\": \"\", \"trace\": \"\"}}, \"*\")"
      ],
      "text/plain": [
       "<IPython.core.display.Javascript object>"
      ]
     },
     "metadata": {},
     "output_type": "display_data"
    },
    {
     "data": {
      "text/markdown": [
       "<span style=\"color:#33cc33\">Correct</span>"
      ],
      "text/plain": [
       "Correct"
      ]
     },
     "metadata": {},
     "output_type": "display_data"
    }
   ],
   "source": [
    "from sklearn.impute import SimpleImputer\n",
    "\n",
    "# Fill in the lines below: imputation\n",
    "imputer = SimpleImputer(strategy='median') # Your code here\n",
    "\n",
    "imputed_X_train = pd.DataFrame(imputer.fit_transform(X_train))\n",
    "imputed_X_valid = pd.DataFrame(imputer.transform(X_valid))\n",
    "\n",
    "# Fill in the lines below: imputation removed column names; put them back\n",
    "imputed_X_train.columns = X_train.columns\n",
    "imputed_X_valid.columns = X_valid.columns\n",
    "\n",
    "# Check your answers\n",
    "step_3.a.check()"
   ]
  },
  {
   "cell_type": "code",
   "execution_count": 15,
   "id": "559c2090",
   "metadata": {
    "execution": {
     "iopub.execute_input": "2022-02-25T21:31:36.351147Z",
     "iopub.status.busy": "2022-02-25T21:31:36.350499Z",
     "iopub.status.idle": "2022-02-25T21:31:36.351957Z",
     "shell.execute_reply": "2022-02-25T21:31:36.352493Z"
    },
    "papermill": {
     "duration": 0.046986,
     "end_time": "2022-02-25T21:31:36.352658",
     "exception": false,
     "start_time": "2022-02-25T21:31:36.305672",
     "status": "completed"
    },
    "tags": []
   },
   "outputs": [],
   "source": [
    "# Lines below will give you a hint or solution code\n",
    "#step_3.a.hint()\n",
    "#step_3.a.solution()"
   ]
  },
  {
   "cell_type": "markdown",
   "id": "440beb9e",
   "metadata": {
    "papermill": {
     "duration": 0.041742,
     "end_time": "2022-02-25T21:31:36.436074",
     "exception": false,
     "start_time": "2022-02-25T21:31:36.394332",
     "status": "completed"
    },
    "tags": []
   },
   "source": [
    "Run the next code cell without changes to obtain the MAE for this approach."
   ]
  },
  {
   "cell_type": "code",
   "execution_count": 16,
   "id": "ec27c12f",
   "metadata": {
    "execution": {
     "iopub.execute_input": "2022-02-25T21:31:36.546736Z",
     "iopub.status.busy": "2022-02-25T21:31:36.541612Z",
     "iopub.status.idle": "2022-02-25T21:31:37.802019Z",
     "shell.execute_reply": "2022-02-25T21:31:37.801432Z",
     "shell.execute_reply.started": "2022-02-25T21:24:54.774360Z"
    },
    "papermill": {
     "duration": 1.324066,
     "end_time": "2022-02-25T21:31:37.802162",
     "exception": false,
     "start_time": "2022-02-25T21:31:36.478096",
     "status": "completed"
    },
    "tags": []
   },
   "outputs": [
    {
     "name": "stdout",
     "output_type": "stream",
     "text": [
      "MAE (Imputation):\n",
      "17791.59899543379\n"
     ]
    }
   ],
   "source": [
    "print(\"MAE (Imputation):\")\n",
    "print(score_dataset(imputed_X_train, imputed_X_valid, y_train, y_valid))"
   ]
  },
  {
   "cell_type": "markdown",
   "id": "208fa560",
   "metadata": {
    "papermill": {
     "duration": 0.045276,
     "end_time": "2022-02-25T21:31:37.893756",
     "exception": false,
     "start_time": "2022-02-25T21:31:37.848480",
     "status": "completed"
    },
    "tags": []
   },
   "source": [
    "### Part B\n",
    "\n",
    "Compare the MAE from each approach.  Does anything surprise you about the results?  Why do you think one approach performed better than the other?"
   ]
  },
  {
   "cell_type": "code",
   "execution_count": 17,
   "id": "4236660f",
   "metadata": {
    "execution": {
     "iopub.execute_input": "2022-02-25T21:31:37.983801Z",
     "iopub.status.busy": "2022-02-25T21:31:37.982729Z",
     "iopub.status.idle": "2022-02-25T21:31:37.987782Z",
     "shell.execute_reply": "2022-02-25T21:31:37.988249Z",
     "shell.execute_reply.started": "2022-02-25T21:15:51.133612Z"
    },
    "papermill": {
     "duration": 0.052682,
     "end_time": "2022-02-25T21:31:37.988422",
     "exception": false,
     "start_time": "2022-02-25T21:31:37.935740",
     "status": "completed"
    },
    "tags": []
   },
   "outputs": [
    {
     "data": {
      "application/javascript": [
       "parent.postMessage({\"jupyterEvent\": \"custom.exercise_interaction\", \"data\": {\"outcomeType\": 1, \"valueTowardsCompletion\": 1.0, \"interactionType\": 1, \"questionType\": 4, \"questionId\": \"3.2_ImputeThought\", \"learnToolsVersion\": \"0.3.4\", \"failureMessage\": \"\", \"exceptionClass\": \"\", \"trace\": \"\"}}, \"*\")"
      ],
      "text/plain": [
       "<IPython.core.display.Javascript object>"
      ]
     },
     "metadata": {},
     "output_type": "display_data"
    },
    {
     "data": {
      "text/markdown": [
       "<span style=\"color:#33cc33\">Correct:</span> \n",
       "\n",
       "Given that thre are so few missing values in the dataset, we'd expect imputation to perform better than dropping columns entirely.  However, we see that dropping columns performs slightly better!  While this can probably partially be attributed to noise in the dataset, another potential explanation is that the imputation method is not a great match to this dataset.  That is, maybe instead of filling in the mean value, it makes more sense to set every missing value to a value of 0, to fill in the most frequently encountered value, or to use some other method.  For instance, consider the `GarageYrBlt` column (which indicates the year that the garage was built).  It's likely that in some cases, a missing value could indicate a house that does not have a garage.  Does it make more sense to fill in the median value along each column in this case?  Or could we get better results by filling in the minimum value along each column?  It's not quite clear what's best in this case, but perhaps we can rule out some options immediately - for instance, setting missing values in this column to 0 is likely to yield horrible results!"
      ],
      "text/plain": [
       "Correct: \n",
       "\n",
       "Given that thre are so few missing values in the dataset, we'd expect imputation to perform better than dropping columns entirely.  However, we see that dropping columns performs slightly better!  While this can probably partially be attributed to noise in the dataset, another potential explanation is that the imputation method is not a great match to this dataset.  That is, maybe instead of filling in the mean value, it makes more sense to set every missing value to a value of 0, to fill in the most frequently encountered value, or to use some other method.  For instance, consider the `GarageYrBlt` column (which indicates the year that the garage was built).  It's likely that in some cases, a missing value could indicate a house that does not have a garage.  Does it make more sense to fill in the median value along each column in this case?  Or could we get better results by filling in the minimum value along each column?  It's not quite clear what's best in this case, but perhaps we can rule out some options immediately - for instance, setting missing values in this column to 0 is likely to yield horrible results!"
      ]
     },
     "metadata": {},
     "output_type": "display_data"
    }
   ],
   "source": [
    "# Check your answer (Run this code cell to receive credit!)\n",
    "step_3.b.check()"
   ]
  },
  {
   "cell_type": "code",
   "execution_count": 18,
   "id": "20ad2a3b",
   "metadata": {
    "execution": {
     "iopub.execute_input": "2022-02-25T21:31:38.076055Z",
     "iopub.status.busy": "2022-02-25T21:31:38.075232Z",
     "iopub.status.idle": "2022-02-25T21:31:38.077920Z",
     "shell.execute_reply": "2022-02-25T21:31:38.078369Z"
    },
    "papermill": {
     "duration": 0.046858,
     "end_time": "2022-02-25T21:31:38.078517",
     "exception": false,
     "start_time": "2022-02-25T21:31:38.031659",
     "status": "completed"
    },
    "tags": []
   },
   "outputs": [],
   "source": [
    "#step_3.b.hint()"
   ]
  },
  {
   "cell_type": "markdown",
   "id": "2f6d20bb",
   "metadata": {
    "papermill": {
     "duration": 0.042864,
     "end_time": "2022-02-25T21:31:38.162849",
     "exception": false,
     "start_time": "2022-02-25T21:31:38.119985",
     "status": "completed"
    },
    "tags": []
   },
   "source": [
    "# Step 4: Generate test predictions\n",
    "\n",
    "In this final step, you'll use any approach of your choosing to deal with missing values.  Once you've preprocessed the training and validation features, you'll train and evaluate a random forest model.  Then, you'll preprocess the test data before generating predictions that can be submitted to the competition!\n",
    "\n",
    "### Part A\n",
    "\n",
    "Use the next code cell to preprocess the training and validation data.  Set the preprocessed DataFrames to `final_X_train` and `final_X_valid`.  **You can use any approach of your choosing here!**  in order for this step to be marked as correct, you need only ensure:\n",
    "- the preprocessed DataFrames have the same number of columns,\n",
    "- the preprocessed DataFrames have no missing values, \n",
    "- `final_X_train` and `y_train` have the same number of rows, and\n",
    "- `final_X_valid` and `y_valid` have the same number of rows."
   ]
  },
  {
   "cell_type": "code",
   "execution_count": 19,
   "id": "9f4340ba",
   "metadata": {
    "execution": {
     "iopub.execute_input": "2022-02-25T21:31:38.266157Z",
     "iopub.status.busy": "2022-02-25T21:31:38.265191Z",
     "iopub.status.idle": "2022-02-25T21:31:38.269742Z",
     "shell.execute_reply": "2022-02-25T21:31:38.270219Z",
     "shell.execute_reply.started": "2022-02-25T21:26:01.133898Z"
    },
    "papermill": {
     "duration": 0.064338,
     "end_time": "2022-02-25T21:31:38.270377",
     "exception": false,
     "start_time": "2022-02-25T21:31:38.206039",
     "status": "completed"
    },
    "tags": []
   },
   "outputs": [
    {
     "data": {
      "application/javascript": [
       "parent.postMessage({\"jupyterEvent\": \"custom.exercise_interaction\", \"data\": {\"outcomeType\": 1, \"valueTowardsCompletion\": 1.0, \"interactionType\": 1, \"questionType\": 2, \"questionId\": \"4.1_PredsCodeA\", \"learnToolsVersion\": \"0.3.4\", \"failureMessage\": \"\", \"exceptionClass\": \"\", \"trace\": \"\"}}, \"*\")"
      ],
      "text/plain": [
       "<IPython.core.display.Javascript object>"
      ]
     },
     "metadata": {},
     "output_type": "display_data"
    },
    {
     "data": {
      "text/markdown": [
       "<span style=\"color:#33cc33\">Correct</span>"
      ],
      "text/plain": [
       "Correct"
      ]
     },
     "metadata": {},
     "output_type": "display_data"
    }
   ],
   "source": [
    "# Preprocessed training and validation features\n",
    "final_X_train = imputed_X_train\n",
    "final_X_valid = imputed_X_valid\n",
    "\n",
    "# Check your answers\n",
    "step_4.a.check()"
   ]
  },
  {
   "cell_type": "code",
   "execution_count": 20,
   "id": "87d9e02d",
   "metadata": {
    "execution": {
     "iopub.execute_input": "2022-02-25T21:31:38.363455Z",
     "iopub.status.busy": "2022-02-25T21:31:38.362654Z",
     "iopub.status.idle": "2022-02-25T21:31:38.365407Z",
     "shell.execute_reply": "2022-02-25T21:31:38.364899Z",
     "shell.execute_reply.started": "2022-02-25T21:24:09.695803Z"
    },
    "papermill": {
     "duration": 0.050848,
     "end_time": "2022-02-25T21:31:38.365539",
     "exception": false,
     "start_time": "2022-02-25T21:31:38.314691",
     "status": "completed"
    },
    "tags": []
   },
   "outputs": [],
   "source": [
    "# Lines below will give you a hint or solution code\n",
    "#step_4.a.hint()\n",
    "#step_4.a.solution()"
   ]
  },
  {
   "cell_type": "markdown",
   "id": "9eb99350",
   "metadata": {
    "papermill": {
     "duration": 0.044443,
     "end_time": "2022-02-25T21:31:38.453472",
     "exception": false,
     "start_time": "2022-02-25T21:31:38.409029",
     "status": "completed"
    },
    "tags": []
   },
   "source": [
    "Run the next code cell to train and evaluate a random forest model.  (*Note that we don't use the `score_dataset()` function above, because we will soon use the trained model to generate test predictions!*)"
   ]
  },
  {
   "cell_type": "code",
   "execution_count": 21,
   "id": "e4480a02",
   "metadata": {
    "execution": {
     "iopub.execute_input": "2022-02-25T21:31:38.545424Z",
     "iopub.status.busy": "2022-02-25T21:31:38.544812Z",
     "iopub.status.idle": "2022-02-25T21:31:39.809954Z",
     "shell.execute_reply": "2022-02-25T21:31:39.810428Z",
     "shell.execute_reply.started": "2022-02-25T21:26:20.259488Z"
    },
    "papermill": {
     "duration": 1.313465,
     "end_time": "2022-02-25T21:31:39.810628",
     "exception": false,
     "start_time": "2022-02-25T21:31:38.497163",
     "status": "completed"
    },
    "tags": []
   },
   "outputs": [
    {
     "name": "stdout",
     "output_type": "stream",
     "text": [
      "MAE (Your approach):\n",
      "17791.59899543379\n"
     ]
    }
   ],
   "source": [
    "# Define and fit model\n",
    "model = RandomForestRegressor(n_estimators=100, random_state=0)\n",
    "model.fit(final_X_train, y_train)\n",
    "\n",
    "# Get validation predictions and MAE\n",
    "preds_valid = model.predict(final_X_valid)\n",
    "print(\"MAE (Your approach):\")\n",
    "print(mean_absolute_error(y_valid, preds_valid))"
   ]
  },
  {
   "cell_type": "markdown",
   "id": "6f8441f6",
   "metadata": {
    "papermill": {
     "duration": 0.046239,
     "end_time": "2022-02-25T21:31:39.903620",
     "exception": false,
     "start_time": "2022-02-25T21:31:39.857381",
     "status": "completed"
    },
    "tags": []
   },
   "source": [
    "### Part B\n",
    "\n",
    "Use the next code cell to preprocess your test data.  Make sure that you use a method that agrees with how you preprocessed the training and validation data, and set the preprocessed test features to `final_X_test`.\n",
    "\n",
    "Then, use the preprocessed test features and the trained model to generate test predictions in `preds_test`.\n",
    "\n",
    "In order for this step to be marked correct, you need only ensure:\n",
    "- the preprocessed test DataFrame has no missing values, and\n",
    "- `final_X_test` has the same number of rows as `X_test`."
   ]
  },
  {
   "cell_type": "code",
   "execution_count": 22,
   "id": "ef5d91d6",
   "metadata": {
    "execution": {
     "iopub.execute_input": "2022-02-25T21:31:39.998738Z",
     "iopub.status.busy": "2022-02-25T21:31:39.997742Z",
     "iopub.status.idle": "2022-02-25T21:31:40.041470Z",
     "shell.execute_reply": "2022-02-25T21:31:40.041934Z",
     "shell.execute_reply.started": "2022-02-25T21:30:48.038975Z"
    },
    "papermill": {
     "duration": 0.096196,
     "end_time": "2022-02-25T21:31:40.042104",
     "exception": false,
     "start_time": "2022-02-25T21:31:39.945908",
     "status": "completed"
    },
    "tags": []
   },
   "outputs": [
    {
     "data": {
      "application/javascript": [
       "parent.postMessage({\"jupyterEvent\": \"custom.exercise_interaction\", \"data\": {\"outcomeType\": 1, \"valueTowardsCompletion\": 1.0, \"interactionType\": 1, \"questionType\": 2, \"questionId\": \"4.2_PredsCodeB\", \"learnToolsVersion\": \"0.3.4\", \"failureMessage\": \"\", \"exceptionClass\": \"\", \"trace\": \"\"}}, \"*\")"
      ],
      "text/plain": [
       "<IPython.core.display.Javascript object>"
      ]
     },
     "metadata": {},
     "output_type": "display_data"
    },
    {
     "data": {
      "text/markdown": [
       "<span style=\"color:#33cc33\">Correct</span>"
      ],
      "text/plain": [
       "Correct"
      ]
     },
     "metadata": {},
     "output_type": "display_data"
    }
   ],
   "source": [
    "# Fill in the line below: preprocess test data\n",
    "final_X_test = pd.DataFrame(imputer.transform(X_test))\n",
    "\n",
    "# Fill in the line below: get test predictions\n",
    "preds_test = model.predict(final_X_test)\n",
    "\n",
    "# Check your answers\n",
    "step_4.b.check()"
   ]
  },
  {
   "cell_type": "code",
   "execution_count": 23,
   "id": "628fbefd",
   "metadata": {
    "execution": {
     "iopub.execute_input": "2022-02-25T21:31:40.135048Z",
     "iopub.status.busy": "2022-02-25T21:31:40.134433Z",
     "iopub.status.idle": "2022-02-25T21:31:40.137130Z",
     "shell.execute_reply": "2022-02-25T21:31:40.136651Z",
     "shell.execute_reply.started": "2022-02-25T21:28:15.629252Z"
    },
    "papermill": {
     "duration": 0.050641,
     "end_time": "2022-02-25T21:31:40.137259",
     "exception": false,
     "start_time": "2022-02-25T21:31:40.086618",
     "status": "completed"
    },
    "tags": []
   },
   "outputs": [],
   "source": [
    "# Lines below will give you a hint or solution code\n",
    "#step_4.b.hint()\n",
    "#step_4.b.solution()"
   ]
  },
  {
   "cell_type": "markdown",
   "id": "67483972",
   "metadata": {
    "papermill": {
     "duration": 0.044594,
     "end_time": "2022-02-25T21:31:40.227025",
     "exception": false,
     "start_time": "2022-02-25T21:31:40.182431",
     "status": "completed"
    },
    "tags": []
   },
   "source": [
    "Run the next code cell without changes to save your results to a CSV file that can be submitted directly to the competition."
   ]
  },
  {
   "cell_type": "code",
   "execution_count": 24,
   "id": "72b25498",
   "metadata": {
    "execution": {
     "iopub.execute_input": "2022-02-25T21:31:40.319852Z",
     "iopub.status.busy": "2022-02-25T21:31:40.318884Z",
     "iopub.status.idle": "2022-02-25T21:31:40.330380Z",
     "shell.execute_reply": "2022-02-25T21:31:40.330993Z"
    },
    "papermill": {
     "duration": 0.059344,
     "end_time": "2022-02-25T21:31:40.331154",
     "exception": false,
     "start_time": "2022-02-25T21:31:40.271810",
     "status": "completed"
    },
    "tags": []
   },
   "outputs": [],
   "source": [
    "# Save test predictions to file\n",
    "output = pd.DataFrame({'Id': X_test.index,\n",
    "                       'SalePrice': preds_test})\n",
    "output.to_csv('submission.csv', index=False)"
   ]
  },
  {
   "cell_type": "markdown",
   "id": "a1932a78",
   "metadata": {
    "papermill": {
     "duration": 0.045171,
     "end_time": "2022-02-25T21:31:40.422284",
     "exception": false,
     "start_time": "2022-02-25T21:31:40.377113",
     "status": "completed"
    },
    "tags": []
   },
   "source": [
    "# Submit your results\n",
    "\n",
    "Once you have successfully completed Step 4, you're ready to submit your results to the leaderboard!  (_You also learned how to do this in the previous exercise.  If you need a reminder of how to do this, please use the instructions below._)  \n",
    "\n",
    "First, you'll need to join the competition if you haven't already.  So open a new window by clicking on [this link](https://www.kaggle.com/c/home-data-for-ml-course).  Then click on the **Join Competition** button.\n",
    "\n",
    "![join competition image](https://i.imgur.com/wLmFtH3.png)\n",
    "\n",
    "Next, follow the instructions below:\n",
    "1. Begin by clicking on the **Save Version** button in the top right corner of the window.  This will generate a pop-up window.  \n",
    "2. Ensure that the **Save and Run All** option is selected, and then click on the **Save** button.\n",
    "3. This generates a window in the bottom left corner of the notebook.  After it has finished running, click on the number to the right of the **Save Version** button.  This pulls up a list of versions on the right of the screen.  Click on the ellipsis **(...)** to the right of the most recent version, and select **Open in Viewer**.  This brings you into view mode of the same page. You will need to scroll down to get back to these instructions.\n",
    "4. Click on the **Output** tab on the right of the screen.  Then, click on the file you would like to submit, and click on the **Submit** button to submit your results to the leaderboard.\n",
    "\n",
    "You have now successfully submitted to the competition!\n",
    "\n",
    "If you want to keep working to improve your performance, select the **Edit** button in the top right of the screen. Then you can change your code and repeat the process. There's a lot of room to improve, and you will climb up the leaderboard as you work.\n",
    "\n",
    "\n",
    "# Keep going\n",
    "\n",
    "Move on to learn what **[categorical variables](https://www.kaggle.com/alexisbcook/categorical-variables)** are, along with how to incorporate them into your machine learning models.  Categorical variables are very common in real-world data, but you'll get an error if you try to plug them into your models without processing them first!"
   ]
  },
  {
   "cell_type": "markdown",
   "id": "fa3e75c3",
   "metadata": {
    "papermill": {
     "duration": 0.045651,
     "end_time": "2022-02-25T21:31:40.513289",
     "exception": false,
     "start_time": "2022-02-25T21:31:40.467638",
     "status": "completed"
    },
    "tags": []
   },
   "source": [
    "---\n",
    "\n",
    "\n",
    "\n",
    "\n",
    "*Have questions or comments? Visit the [course discussion forum](https://www.kaggle.com/learn/intermediate-machine-learning/discussion) to chat with other learners.*"
   ]
  }
 ],
 "metadata": {
  "kernelspec": {
   "display_name": "Python 3",
   "language": "python",
   "name": "python3"
  },
  "language_info": {
   "codemirror_mode": {
    "name": "ipython",
    "version": 3
   },
   "file_extension": ".py",
   "mimetype": "text/x-python",
   "name": "python",
   "nbconvert_exporter": "python",
   "pygments_lexer": "ipython3",
   "version": "3.7.12"
  },
  "papermill": {
   "default_parameters": {},
   "duration": 18.811374,
   "end_time": "2022-02-25T21:31:41.268414",
   "environment_variables": {},
   "exception": null,
   "input_path": "__notebook__.ipynb",
   "output_path": "__notebook__.ipynb",
   "parameters": {},
   "start_time": "2022-02-25T21:31:22.457040",
   "version": "2.3.3"
  }
 },
 "nbformat": 4,
 "nbformat_minor": 5
}
